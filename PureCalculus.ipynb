{
  "nbformat": 4,
  "nbformat_minor": 0,
  "metadata": {
    "colab": {
      "name": "PureCalculus.ipynb",
      "provenance": [],
      "collapsed_sections": [],
      "toc_visible": true,
      "authorship_tag": "ABX9TyNvT2xF8h6N4/EkFAgLZ/To",
      "include_colab_link": true
    },
    "kernelspec": {
      "name": "python3",
      "display_name": "Python 3"
    },
    "language_info": {
      "name": "python"
    }
  },
  "cells": [
    {
      "cell_type": "markdown",
      "metadata": {
        "id": "view-in-github",
        "colab_type": "text"
      },
      "source": [
        "<a href=\"https://colab.research.google.com/github/gzholtkevych/LambdaLearning/blob/main/PureCalculus.ipynb\" target=\"_parent\"><img src=\"https://colab.research.google.com/assets/colab-badge.svg\" alt=\"Open In Colab\"/></a>"
      ]
    },
    {
      "cell_type": "markdown",
      "metadata": {
        "id": "zQIil37NA0Ji"
      },
      "source": [
        "# **Pure $\\lambda$-Calculus**\n",
        "\n",
        "[The deatailed script](https://www.mathcha.io/editor/Pvvz5UZ1t7ktL6sZJYp19sZnX9vVserJMEKhJvvMx7)"
      ]
    },
    {
      "cell_type": "markdown",
      "metadata": {
        "id": "kt59KyGy-o-f"
      },
      "source": [
        "## **Variables**\n"
      ]
    },
    {
      "cell_type": "code",
      "metadata": {
        "id": "pj7-5rLvtVsV"
      },
      "source": [
        "def natgen():\n",
        "    n = 0\n",
        "    while True:\n",
        "        yield n\n",
        "        n += 1\n",
        "\n",
        "\n",
        "class Var:\n",
        "    __nats = natgen()\n",
        "\n",
        "    def __init__(self):\n",
        "        self._idx = next(Var.__nats)\n",
        "\n",
        "    def __str__(self):\n",
        "        return \"v[\" + str(self._idx) + \"]\"\n",
        "\n",
        "    def __eq__(self, other):\n",
        "        return self._idx == other._idx"
      ],
      "execution_count": 1,
      "outputs": []
    },
    {
      "cell_type": "markdown",
      "metadata": {
        "id": "ljb-CYMMKFqw"
      },
      "source": [
        "## **Terms**\n"
      ]
    },
    {
      "cell_type": "code",
      "metadata": {
        "id": "jgewYUUzt3nA"
      },
      "source": [
        "class Term:\n",
        "    @property\n",
        "    def kind(self):\n",
        "        if isinstance(self, Atom):\n",
        "            return \"atom\"\n",
        "        if isinstance(self, Application):\n",
        "            return \"application\"\n",
        "        return \"abstraction\"\n",
        "\n",
        "    def __eq__(self, other):\n",
        "        if isinstance(self, Atom) and isinstance(other, Atom):\n",
        "            return self._var == other._var\n",
        "        if isinstance(self, Application) and isinstance(other, Application):\n",
        "            return self._sub == other._sub and self._obj == other._obj\n",
        "        if isinstance(self, Abstraction) and isinstance(other, Abstraction):\n",
        "            return self._head == other._head and self._body == other._body\n",
        "\n",
        "\n",
        "class Atom(Term):\n",
        "    def __init__(self, x: Var):\n",
        "        if isinstance(x, Var):\n",
        "            self._var = x\n",
        "        else:\n",
        "            raise TypeError(\"a variable is waiting\")\n",
        "\n",
        "    def __str__(self):\n",
        "        return str(self._var)\n",
        "\n",
        "\n",
        "class Application(Term):\n",
        "    def __init__(self, X : Term, Y : Term):\n",
        "        if isinstance(X, Term) and isinstance(Y, Term):\n",
        "            self._sub = X\n",
        "            self._obj = Y\n",
        "        else:\n",
        "            raise TypeError(\"a term is waiting\")\n",
        "\n",
        "    def __str__(self):\n",
        "        return \"(\" + str(self._sub) + \" \" + str(self._obj) + \")\"\n",
        "\n",
        "\n",
        "class Abstraction(Term):\n",
        "    def __init__(self, x: Var, X: Term):\n",
        "        if isinstance(x, Var):\n",
        "            if isinstance(X, Term):\n",
        "                self._head = x\n",
        "                self._body = X\n",
        "            else:\n",
        "                raise TypeError(\"a term is waiting\")\n",
        "        else:\n",
        "            raise TypeError(\"a variable is waiting\")\n",
        "\n",
        "    def __str__(self):\n",
        "        return \"(fun \" + str(self._head) + \": \" + str(self._body) + \")\""
      ],
      "execution_count": 2,
      "outputs": []
    },
    {
      "cell_type": "code",
      "metadata": {
        "colab": {
          "base_uri": "https://localhost:8080/"
        },
        "id": "3PerAcknQNUc",
        "outputId": "016c5012-031b-4c41-fc90-c2c435fad060"
      },
      "source": [
        "x, y = Var(), Var()\n",
        "X = Atom(x)\n",
        "print(\"X = {} is {}\".format(X, X.kind))\n",
        "Y = Atom(y)\n",
        "print(\"Y = {} is {}\".format(Y, Y.kind))\n",
        "XY = Application(X, Y)\n",
        "print(\"XY = {} is {}\".format(XY, XY.kind))\n",
        "LxX = Abstraction(x, X)\n",
        "print(\"LxX = {} is {}\".format(LxX, LxX.kind))\n",
        "LxyX = Abstraction(x, Abstraction(y, X))\n",
        "print(\"LxyX = {} is {}\".format(LxyX, LxyX.kind))\n",
        "LxyYX = Abstraction(x, Abstraction(y, Application(Y,X)))\n",
        "print(\"LxyYX = {} is {}\".format(LxyYX, LxyYX.kind))\n",
        "z = x\n",
        "print(z == x)\n",
        "Z = LxyYX\n",
        "print(LxyYX == Z)"
      ],
      "execution_count": 3,
      "outputs": [
        {
          "output_type": "stream",
          "name": "stdout",
          "text": [
            "X = v[0] is atom\n",
            "Y = v[1] is atom\n",
            "XY = (v[0] v[1]) is application\n",
            "LxX = (fun v[0]: v[0]) is abstraction\n",
            "LxyX = (fun v[0]: (fun v[1]: v[0])) is abstraction\n",
            "LxyYX = (fun v[0]: (fun v[1]: (v[1] v[0]))) is abstraction\n",
            "True\n",
            "True\n"
          ]
        }
      ]
    }
  ]
}