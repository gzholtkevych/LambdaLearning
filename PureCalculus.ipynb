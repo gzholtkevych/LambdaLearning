{
  "nbformat": 4,
  "nbformat_minor": 0,
  "metadata": {
    "colab": {
      "name": "PureCalculus.ipynb",
      "provenance": [],
      "collapsed_sections": [],
      "toc_visible": true,
      "authorship_tag": "ABX9TyOblJPwLNEyhC13G3c37v5e",
      "include_colab_link": true
    },
    "kernelspec": {
      "name": "python3",
      "display_name": "Python 3"
    },
    "language_info": {
      "name": "python"
    }
  },
  "cells": [
    {
      "cell_type": "markdown",
      "metadata": {
        "id": "view-in-github",
        "colab_type": "text"
      },
      "source": [
        "<a href=\"https://colab.research.google.com/github/gzholtkevych/LambdaLearning/blob/main/PureCalculus.ipynb\" target=\"_parent\"><img src=\"https://colab.research.google.com/assets/colab-badge.svg\" alt=\"Open In Colab\"/></a>"
      ]
    },
    {
      "cell_type": "markdown",
      "metadata": {
        "id": "zQIil37NA0Ji"
      },
      "source": [
        "# **Pure $\\lambda$-Calculus**\n",
        "\n",
        "[The deatailed script](https://www.mathcha.io/editor/Pvvz5UZ1t7ktL6sZJYp19sZnX9vVserJMEKhJvvMx7)"
      ]
    },
    {
      "cell_type": "markdown",
      "metadata": {
        "id": "kt59KyGy-o-f"
      },
      "source": [
        "## **Variables**\n",
        "\n",
        "The code below models variables.\n",
        "\n",
        "Using the `natgen()` generator in this code ensures that a fresh variable is returned in response to each constructor call."
      ]
    },
    {
      "cell_type": "code",
      "metadata": {
        "id": "pj7-5rLvtVsV"
      },
      "source": [
        "def natgen():\n",
        "    n = 0\n",
        "    while True:\n",
        "        yield n\n",
        "        n += 1\n",
        "\n",
        "\n",
        "class Var:\n",
        "    __nats = natgen()\n",
        "\n",
        "    def __init__(self):\n",
        "        self._idx = next(Var.__nats)\n",
        "\n",
        "    def __str__(self):\n",
        "        return \"v[\" + str(self._idx) + \"]\"\n",
        "\n",
        "    def __eq__(self, other):\n",
        "        return self._idx == other._idx"
      ],
      "execution_count": 7,
      "outputs": []
    },
    {
      "cell_type": "markdown",
      "metadata": {
        "id": "ljb-CYMMKFqw"
      },
      "source": [
        "## **Terms**\n"
      ]
    },
    {
      "cell_type": "code",
      "metadata": {
        "id": "jgewYUUzt3nA"
      },
      "source": [
        "class Term:\n",
        "\n",
        "    @property\n",
        "    def isAtom(self):\n",
        "        \"\"\"checks whether the term is an atom\"\"\"\n",
        "        return isinstance(self, Atom)\n",
        "\n",
        "    @property\n",
        "    def isApplication(self):\n",
        "        \"\"\"checks whether the term is an application\"\"\"\n",
        "        return isinstance(self, Application)\n",
        "\n",
        "    @property\n",
        "    def isAbstraction(self):\n",
        "        \"\"\"checks whether the term is an abstraction\"\"\"\n",
        "        return isinstance(self, Abstraction)\n",
        "\n",
        "    def __str__(self):\n",
        "        if self.isAtom:\n",
        "            return str(self._var)\n",
        "        if self.isApplication:\n",
        "            return \"(\" + str(self._sub) + \" \" + str(self._obj) + \")\"\n",
        "        # self is Abbstraction\n",
        "        return \"(fun \" + str(self._head) + \" => \" + str(self._body) + \")\"\n",
        "\n",
        "    def __eq__(self, other):\n",
        "        if self.isAtom and otherisAtom:\n",
        "            return self._var == other._var\n",
        "        if isinstance(self, Application) and isinstance(other, Application):\n",
        "            return self._sub == other._sub and self._obj == other._obj\n",
        "        if isinstance(self, Abstraction) and isinstance(other, Abstraction):\n",
        "            return self._head == other._head and self._body == other._body\n",
        "\n",
        "    @property\n",
        "    def isBetaRedex(self):\n",
        "        \"\"\"checks whether the term is a beta-redex\"\"\"\n",
        "        return self.isApplication and self._sub.isAbstraction\n",
        "\n",
        "    @property\n",
        "    def redexes(self):\n",
        "        \"\"\"determiness all beta-redexes in the term\"\"\"\n",
        "        if self.isAtom:\n",
        "            return []\n",
        "        if self.isAbstraction:\n",
        "            return self._body.redexes\n",
        "        # self.isApplication is True\n",
        "        temp = [self ]if self.isBetaRedex else []\n",
        "        temp += (self._sub.redexes + self._obj.redexes)\n",
        "        return temp \n",
        "\n",
        "\n",
        "class Atom(Term):\n",
        "    def __init__(self, x: Var):\n",
        "        if isinstance(x, Var):\n",
        "            self._var = x\n",
        "        else:\n",
        "            raise TypeError(\"a variable is waiting\")\n",
        "\n",
        "\n",
        "class Application(Term):\n",
        "    def __init__(self, X : Term, Y : Term):\n",
        "        if isinstance(X, Term) and isinstance(Y, Term):\n",
        "            self._sub = X\n",
        "            self._obj = Y\n",
        "        else:\n",
        "            raise TypeError(\"a term is waiting\")\n",
        "\n",
        "\n",
        "class Abstraction(Term):\n",
        "    def __init__(self, x: Var, X: Term):\n",
        "        if isinstance(x, Var):\n",
        "            if isinstance(X, Term):\n",
        "                self._head = x\n",
        "                self._body = X\n",
        "            else:\n",
        "                raise TypeError(\"a term is waiting\")\n",
        "        else:\n",
        "            raise TypeError(\"a variable is waiting\")\n"
      ],
      "execution_count": 10,
      "outputs": []
    },
    {
      "cell_type": "code",
      "metadata": {
        "colab": {
          "base_uri": "https://localhost:8080/"
        },
        "id": "3PerAcknQNUc",
        "outputId": "9bbdacb1-adff-4b5a-bb6d-2bcde1f6c063"
      },
      "source": [
        "x, y, z = Var(), Var(), Var()\n",
        "X, Z = Atom(x), Atom(z)\n",
        "XXX = Application(Application(X, X), X)\n",
        "XZ = Application(X, Z)\n",
        "T = Application(Abstraction(x, XXX),\n",
        "                Abstraction(x, Application(Abstraction(y, Z),\n",
        "                                           XZ\n",
        "                                          ))\n",
        "               )\n",
        "print(T)\n",
        "for t in T.redexes:\n",
        "    print(t)"
      ],
      "execution_count": 11,
      "outputs": [
        {
          "output_type": "stream",
          "name": "stdout",
          "text": [
            "((fun v[3] => ((v[3] v[3]) v[3])) (fun v[3] => ((fun v[4] => v[5]) (v[3] v[5]))))\n",
            "((fun v[3] => ((v[3] v[3]) v[3])) (fun v[3] => ((fun v[4] => v[5]) (v[3] v[5]))))\n",
            "((fun v[4] => v[5]) (v[3] v[5]))\n"
          ]
        }
      ]
    },
    {
      "cell_type": "code",
      "metadata": {
        "colab": {
          "base_uri": "https://localhost:8080/"
        },
        "id": "8_ckeZZmhIlI",
        "outputId": "24f67605-b941-4633-8f2a-45bdc0ce24d4"
      },
      "source": [
        "x, y = 5, \"abc\"\n",
        "s = \"x = {}, y = {}\".format(x, y)\n",
        "s == \"x = {x}, y = {y}\""
      ],
      "execution_count": 6,
      "outputs": [
        {
          "output_type": "execute_result",
          "data": {
            "text/plain": [
              "False"
            ]
          },
          "metadata": {},
          "execution_count": 6
        }
      ]
    }
  ]
}