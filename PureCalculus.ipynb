{
  "nbformat": 4,
  "nbformat_minor": 0,
  "metadata": {
    "colab": {
      "name": "PureCalculus.ipynb",
      "provenance": [],
      "collapsed_sections": [],
      "toc_visible": true,
      "authorship_tag": "ABX9TyM3KbhOWqkAqclVbHrvOrFm",
      "include_colab_link": true
    },
    "kernelspec": {
      "name": "python3",
      "display_name": "Python 3"
    },
    "language_info": {
      "name": "python"
    }
  },
  "cells": [
    {
      "cell_type": "markdown",
      "metadata": {
        "id": "view-in-github",
        "colab_type": "text"
      },
      "source": [
        "<a href=\"https://colab.research.google.com/github/gzholtkevych/LambdaLearning/blob/main/PureCalculus.ipynb\" target=\"_parent\"><img src=\"https://colab.research.google.com/assets/colab-badge.svg\" alt=\"Open In Colab\"/></a>"
      ]
    },
    {
      "cell_type": "markdown",
      "metadata": {
        "id": "zQIil37NA0Ji"
      },
      "source": [
        "# **Pure $\\lambda$-Calculus**\n",
        "\n",
        "[The deatailed script](https://www.mathcha.io/editor/Pvvz5UZ1t7ktL6sZJYp19sZnX9vVserJMEKhJvvMx7)"
      ]
    },
    {
      "cell_type": "markdown",
      "metadata": {
        "id": "kt59KyGy-o-f"
      },
      "source": [
        "## **Variables**\n",
        "\n",
        "The code below models variables.\n",
        "\n",
        "Using the `natgen()` generator in this code ensures that a fresh variable is returned in response to each constructor call."
      ]
    },
    {
      "cell_type": "code",
      "metadata": {
        "id": "pj7-5rLvtVsV"
      },
      "source": [
        "def natgen():\n",
        "    n = 0\n",
        "    while True:\n",
        "        yield n\n",
        "        n += 1\n",
        "\n",
        "\n",
        "class Var:\n",
        "    __nats = natgen()\n",
        "\n",
        "    def __init__(self):\n",
        "        self._idx = next(Var.__nats)\n",
        "\n",
        "    def __hash__(self):\n",
        "        return self._idx.__hash__()\n",
        "\n",
        "    def __str__(self):\n",
        "        return \"v[\" + str(self._idx) + \"]\"\n",
        "\n",
        "    def __eq__(self, other):\n",
        "        return self._idx == other._idx"
      ],
      "execution_count": 1,
      "outputs": []
    },
    {
      "cell_type": "markdown",
      "metadata": {
        "id": "ljb-CYMMKFqw"
      },
      "source": [
        "## **Terms**\n"
      ]
    },
    {
      "cell_type": "code",
      "metadata": {
        "id": "jgewYUUzt3nA"
      },
      "source": [
        "class Term:\n",
        "\n",
        "    @property\n",
        "    def isAtom(self):\n",
        "        \"\"\"checks whether the term is an atom\"\"\"\n",
        "        return isinstance(self, Atom)\n",
        "\n",
        "    @property\n",
        "    def isApplication(self):\n",
        "        \"\"\"checks whether the term is an application\"\"\"\n",
        "        return isinstance(self, Application)\n",
        "\n",
        "    @property\n",
        "    def isAbstraction(self):\n",
        "        \"\"\"checks whether the term is an abstraction\"\"\"\n",
        "        return isinstance(self, Abstraction)\n",
        "\n",
        "    def __str__(self):\n",
        "        if self.isAtom:\n",
        "            return str(self._var)\n",
        "        if self.isApplication:\n",
        "            return \"(\" + str(self._sub) + \" \" + str(self._obj) + \")\"\n",
        "        # self is Abbstraction\n",
        "        return \"(fun \" + str(self._head) + \" => \" + str(self._body) + \")\"\n",
        "\n",
        "    def __eq__(self, other):\n",
        "        if self.isAtom and otherisAtom:\n",
        "            return self._var == other._var\n",
        "        if isinstance(self, Application) and isinstance(other, Application):\n",
        "            return self._sub == other._sub and self._obj == other._obj\n",
        "        if isinstance(self, Abstraction) and isinstance(other, Abstraction):\n",
        "            return self._head == other._head and self._body == other._body\n",
        "\n",
        "    @property\n",
        "    def isBetaRedex(self):\n",
        "        \"\"\"checks whether the term is a beta-redex\"\"\"\n",
        "        return self.isApplication and self._sub.isAbstraction\n",
        "\n",
        "    @property\n",
        "    def redexes(self):\n",
        "        \"\"\"determiness all beta-redexes in the term\"\"\"\n",
        "        if self.isAtom:\n",
        "            return []\n",
        "        if self.isAbstraction:\n",
        "            return self._body.redexes\n",
        "        # self is Application\n",
        "        temp = [self ]if self.isBetaRedex else []\n",
        "        temp += (self._sub.redexes + self._obj.redexes)\n",
        "        return temp\n",
        "\n",
        "\n",
        "    @property\n",
        "    def _vars(self):\n",
        "        \"\"\"\n",
        "        returns\n",
        "        -------\n",
        "            the dictionary stuctured as follows\n",
        "                dict[Var, dict[['free' | 'bound'], int]]\n",
        "            Here, keys of the external dictionary are the variables that\n",
        "            are occurred in 'self', and values of the internal dictionaries\n",
        "            relate respectively to the numbers of free and bound occurrences\n",
        "            of the variables.\n",
        "        \"\"\"\n",
        "        if self.isAtom:\n",
        "            return {self._var: {'free': 1, 'bound': 0}}\n",
        "        if self.isApplication:\n",
        "            vars, auxvars = dict(self._sub._vars), self._obj._vars\n",
        "            for var in auxvars:\n",
        "                try:\n",
        "                    for key in {'free', 'bound'}:\n",
        "                       vars[var][key] += self._obj._vars[var][key]\n",
        "                except KeyError:\n",
        "                    vars[var] = dict(self._obj._vars[var])\n",
        "            return vars\n",
        "        # self is Abstraction\n",
        "        vars = dict(self._body._vars)\n",
        "        try:\n",
        "            vars[self._head]['bound'] += vars[self._head]['free']\n",
        "            vars[self._head]['free'] = 0\n",
        "        except KeyError:\n",
        "            pass\n",
        "        return vars\n",
        "\n",
        "\n",
        "class Atom(Term):\n",
        "    def __init__(self, x: Var):\n",
        "        if isinstance(x, Var):\n",
        "            self._var = x\n",
        "        else:\n",
        "            raise TypeError(\"a variable is waiting\")\n",
        "\n",
        "\n",
        "class Application(Term):\n",
        "    def __init__(self, X : Term, Y : Term):\n",
        "        if isinstance(X, Term) and isinstance(Y, Term):\n",
        "            self._sub = X\n",
        "            self._obj = Y\n",
        "        else:\n",
        "            raise TypeError(\"a term is waiting\")\n",
        "\n",
        "\n",
        "class Abstraction(Term):\n",
        "    def __init__(self, x: Var, X: Term):\n",
        "        if isinstance(x, Var):\n",
        "            if isinstance(X, Term):\n",
        "                self._head = x\n",
        "                self._body = X\n",
        "            else:\n",
        "                raise TypeError(\"a term is waiting\")\n",
        "        else:\n",
        "            raise TypeError(\"a variable is waiting\")\n"
      ],
      "execution_count": 2,
      "outputs": []
    },
    {
      "cell_type": "code",
      "metadata": {
        "id": "QeYQZ4eW-tWr"
      },
      "source": [
        "x, y, z = Var(), Var(), Var()\n",
        "X, Z = Atom(x), Atom(z)\n",
        "XXX = Application(Application(X, X), X)\n",
        "XZ = Application(X, Z)\n",
        "T = Application(Abstraction(x, XXX),\n",
        "                Abstraction(x, Application(Abstraction(y, Z),\n",
        "                                           XZ\n",
        "                                          ))\n",
        "               )"
      ],
      "execution_count": 3,
      "outputs": []
    },
    {
      "cell_type": "code",
      "metadata": {
        "colab": {
          "base_uri": "https://localhost:8080/"
        },
        "id": "3PerAcknQNUc",
        "outputId": "3935750c-cf6b-4727-e256-bd0f1ba59744"
      },
      "source": [
        "print(T)\n",
        "for var, item in T._vars.items():\n",
        "    print(\"\\t{}\".format(var), end=\": \")\n",
        "    print(item)"
      ],
      "execution_count": 4,
      "outputs": [
        {
          "output_type": "stream",
          "name": "stdout",
          "text": [
            "((fun v[0] => ((v[0] v[0]) v[0])) (fun v[0] => ((fun v[1] => v[2]) (v[0] v[2]))))\n",
            "\tv[0]: {'free': 0, 'bound': 4}\n",
            "\tv[2]: {'free': 2, 'bound': 0}\n"
          ]
        }
      ]
    }
  ]
}